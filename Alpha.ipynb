{
 "cells": [
  {
   "cell_type": "code",
   "execution_count": 20,
   "metadata": {
    "collapsed": false
   },
   "outputs": [
    {
     "name": "stdout",
     "output_type": "stream",
     "text": [
      "Dav: {0: 'Well, but', 1: 'but there', 2: 'there is', 3: 'is no', 4: 'no but', 5: 'but there', 6: 'there is', 7: 'is no', 8: 'no evidence', 9: 'evidence but', 10: 'but there', 11: 'there is...', 12: 'is... (CROSSTALK)', 13: 'is... (CROSSTALK)', 14: 'is... (CROSSTALK)', 15: 'about that?', 16: 'about that?', 17: 'values. The', 18: 'The State', 19: 'State Department', 20: 'Department has', 21: 'has said', 22: 'said that.', 23: 'that. I', 24: 'I think', 25: \"think that's\", 26: \"that's been\", 27: 'been proven.', 28: 'proven. But', 29: 'But I', 30: 'I am', 31: 'am happy,', 32: 'happy, in', 33: 'in fact', 34: \"fact I'm\", 35: \"I'm thrilled\", 36: 'thrilled to', 37: 'to talk', 38: 'talk about', 39: 'about the', 40: 'the Clinton', 41: 'Clinton Foundation,', 42: 'Foundation, because', 43: 'because it', 44: 'it is', 45: 'is a', 46: 'a world¬renowned', 47: 'world¬renowned charity', 48: 'charity and', 49: 'and I', 50: 'I am', 51: 'am so', 52: 'so proud', 53: 'proud of', 54: 'of the', 55: 'the work', 56: 'work that', 57: 'that it', 58: 'it does.', 59: 'does. You', 60: 'You know,', 61: 'know, I', 62: 'I could', 63: 'could talk', 64: 'talk for', 65: 'for the', 66: 'the rest', 67: 'rest of', 68: 'of the', 69: 'the debate', 70: 'debate I', 71: 'I know', 72: 'know I', 73: \"I don't\", 74: \"don't have\", 75: 'have the', 76: 'the time', 77: 'time to', 78: 'to do', 79: 'do that.', 80: 'that. But', 81: 'But just', 82: 'just briefly,', 83: 'briefly, the', 84: 'the Clinton', 85: 'Clinton Foundation', 86: 'Foundation made', 87: 'made it', 88: 'it possible', 89: 'possible for', 90: 'for 11', 91: '11 million', 92: 'million people', 93: 'people around', 94: 'around the', 95: 'the world', 96: 'world with', 97: 'with HIV¬AIDS', 98: 'HIV¬AIDS to', 99: 'to afford', 100: 'afford treatment,', 101: 'treatment, and', 102: \"and that's\", 103: \"that's about\", 104: 'about half', 105: 'half all', 106: 'all the', 107: 'the people', 108: 'people in', 109: 'in the', 110: 'the world', 111: 'world who', 112: 'who are', 113: 'are getting', 114: 'getting treatment.', 115: 'treatment. In', 116: 'In partnership', 117: 'partnership with', 118: 'with the', 119: 'the American', 120: 'American Health', 121: 'Health Association...', 122: 'Health Association...', 123: 'Health Association...', 124: 'I hope', 125: 'hope that', 126: 'that as', 127: 'as we', 128: 'we move', 129: 'move in', 130: 'in the', 131: 'the last', 132: 'last weeks', 133: 'weeks of', 134: 'of this', 135: 'this campaign,', 136: 'campaign, more', 137: 'more and', 138: 'and more', 139: 'more people', 140: 'people will', 141: 'will understand', 142: \"understand what's\", 143: \"what's at\", 144: 'at stake', 145: 'stake in', 146: 'in this', 147: 'this election.', 148: 'election. It', 149: 'It really', 150: 'really does', 151: 'does come', 152: 'come down', 153: 'down to', 154: 'to what', 155: 'what kind', 156: 'kind of', 157: 'of country', 158: 'country we', 159: 'we are', 160: 'are going', 161: 'going to', 162: 'to have.', 163: 'to have.', 164: 'to have.', 165: 'and we', 166: 'we make', 167: 'make our', 168: 'our country', 169: 'country even', 170: 'even greater.', 171: 'greater. America', 172: 'America is', 173: 'is great,', 174: 'great, because', 175: 'because America', 176: 'America is', 177: 'is good.', 178: 'good. And', 179: 'And it', 180: 'it really', 181: 'really is', 182: 'is up', 183: 'up to', 184: 'to all', 185: 'all of', 186: 'of us', 187: 'us to', 188: 'to make', 189: 'make that', 190: 'that true,', 191: 'true, now', 192: 'now and', 193: 'and in', 194: 'in the', 195: 'the future,', 196: 'future, and', 197: 'and particularly', 198: 'particularly for', 199: 'for our', 200: 'our children', 201: 'children and', 202: 'and our', 203: 'our grandchildren.', 204: 'our grandchildren.', 205: 'our grandchildren.', 206: 'will be', 207: 'be able', 208: 'able to', 209: 'to do.', 210: 'to do.', 211: 'to do.', 212: 'a tuition', 213: 'tuition bill', 214: 'bill from', 215: 'from a', 216: 'a public', 217: 'public college', 218: 'college or', 219: 'or university', 220: 'university if', 221: 'if the', 222: 'the plan', 223: 'plan that', 224: 'that I', 225: 'I worked', 226: 'worked on', 227: 'on with', 228: 'with Bernie', 229: 'Bernie Sanders', 230: 'Sanders is', 231: 'is enacted.', 232: 'enacted. And', 233: \"And we're\", 234: \"we're going\", 235: 'going to', 236: 'to work', 237: 'work hard', 238: 'hard to', 239: 'to make', 240: 'make sure', 241: 'sure that', 242: 'that it', 243: 'it is,', 244: 'is, because', 245: 'because we', 246: 'we are', 247: 'are going', 248: 'going to', 249: 'to go', 250: 'go where', 251: 'where the', 252: 'the money', 253: 'money is.', 254: 'is. Most', 255: 'Most of', 256: 'of the', 257: 'the gains', 258: 'gains in', 259: 'in the', 260: 'the last', 261: 'last years', 262: 'years since', 263: 'since the', 264: 'the Great', 265: 'Great Recession', 266: 'Recession have', 267: 'have gone', 268: 'gone to', 269: 'to the', 270: 'the very', 271: 'very top.', 272: 'top. So', 273: 'So we', 274: 'we are', 275: 'are going', 276: 'going to', 277: 'to have', 278: 'have the', 279: 'the wealthy', 280: 'wealthy pay', 281: 'pay their', 282: 'their fair', 283: 'fair share.', 284: \"share. We're\", 285: \"We're going\", 286: 'going to', 287: 'to have', 288: 'have corporations', 289: 'corporations make', 290: 'make a', 291: 'a contribution', 292: 'contribution greater', 293: 'greater than', 294: 'than they', 295: 'they are', 296: 'are now', 297: 'now to', 298: 'to our', 299: 'our country.', 300: 'country. That', 301: 'That is', 302: 'is a', 303: 'a plan', 304: 'plan that', 305: 'that has', 306: 'has been', 307: 'been analyzed', 308: 'analyzed by', 309: 'by independent', 310: 'independent experts', 311: 'experts which', 312: 'which said', 313: 'said that', 314: 'that it', 315: 'it could', 316: 'could produce', 317: 'produce 10', 318: '10 million', 319: 'million new', 320: 'new jobs.', 321: 'jobs. By', 322: 'By contrast,', 323: \"contrast, Donald's\", 324: \"Donald's plan\", 325: 'plan has', 326: 'has been', 327: 'been analyzed', 328: 'analyzed to', 329: 'to conclude', 330: 'conclude it', 331: 'it might', 332: 'might lose', 333: 'lose 3.5', 334: '3.5 million', 335: 'million jobs.', 336: 'jobs. Why?', 337: 'Why? Because', 338: 'Because his', 339: 'his whole', 340: 'whole plan', 341: 'plan is', 342: 'is to', 343: 'to cut', 344: 'cut taxes,', 345: 'taxes, to', 346: 'to give', 347: 'give the', 348: 'the biggest', 349: 'biggest tax', 350: 'tax breaks', 351: 'breaks ever', 352: 'ever to', 353: 'to the', 354: 'the wealthy', 355: 'wealthy and', 356: 'and to', 357: 'to corporations,', 358: 'corporations, adding', 359: 'adding $20', 360: '$20 trillion', 361: 'trillion to', 362: 'to our', 363: 'our debt,', 364: 'debt, and', 365: 'and causing', 366: 'causing the', 367: 'the kind', 368: 'kind of', 369: 'of dislocation', 370: 'dislocation that', 371: 'that we', 372: 'we have', 373: 'have seen', 374: 'seen before,', 375: 'before, because', 376: 'because it', 377: 'it truly', 378: 'truly will', 379: 'will be', 380: 'be trickle\\xaddown', 381: 'trickle\\xaddown economics', 382: 'economics on', 383: 'on steroids.', 384: 'steroids. So', 385: 'So the', 386: 'the plan', 387: 'plan I', 388: 'I have', 389: 'have I', 390: 'I think', 391: 'think will', 392: 'will actually', 393: 'actually produce', 394: 'produce greater', 395: 'greater opportunities.', 396: 'opportunities. The', 397: 'The plan', 398: 'plan he', 399: 'he has', 400: 'has will', 401: 'will cost', 402: 'cost us', 403: 'us jobs', 404: 'jobs and', 405: 'and possibly', 406: 'possibly lead', 407: 'lead to', 408: 'to another', 409: 'another Great', 410: 'Great Recession.', 411: 'Great Recession.', 412: 'Great Recession.'}\n",
      "Aus {0: 'I think', 1: 'think that', 2: \"that it's\", 3: \"it's been\", 4: 'been very', 5: 'very well...', 6: 'very well...', 7: 'very well...', 8: \"there's been\", 9: 'been a', 10: 'a lot', 11: 'lot of', 12: 'of developments', 13: 'developments over', 14: 'over the', 15: 'the last', 16: 'last 10', 17: '10 days', 18: 'days since', 19: 'since the', 20: 'the last', 21: 'last debate.', 22: \"debate. I'd\", 23: \"I'd like\", 24: 'like to', 25: 'to ask', 26: 'ask you', 27: 'you about', 28: 'about them.', 29: 'them. These', 30: 'These are', 31: 'are questions', 32: 'questions that', 33: 'that the', 34: 'the American', 35: 'American people', 36: 'people have.', 37: 'have. Secretary', 38: 'Secretary Clinton,', 39: 'Clinton, during', 40: 'during your', 41: 'your 2009', 42: '2009 Senate', 43: 'Senate confirmation', 44: 'confirmation hearing,', 45: 'hearing, you', 46: 'you promised', 47: 'promised to', 48: 'to avoid', 49: 'avoid even', 50: 'even the', 51: 'the appearance', 52: 'appearance of', 53: 'of a', 54: 'a conflict', 55: 'conflict of', 56: 'of interest', 57: 'interest with', 58: 'with your', 59: 'your dealing', 60: 'dealing with', 61: 'with the', 62: 'the Clinton', 63: 'Clinton Foundation', 64: 'Foundation while', 65: 'while you', 66: 'you were', 67: 'were secretary', 68: 'secretary of', 69: 'of state,', 70: 'state, but', 71: 'but emails', 72: 'emails show', 73: 'show that', 74: 'that donors', 75: 'donors got', 76: 'got special', 77: 'special access', 78: 'access to', 79: 'to you.', 80: 'you. Those', 81: 'Those seeking', 82: 'seeking grants', 83: 'grants for', 84: 'for Haiti', 85: 'Haiti relief', 86: 'relief were', 87: 'were considered', 88: 'considered separately', 89: 'separately from', 90: 'from nondonors,', 91: 'nondonors, and', 92: 'and some', 93: 'some of', 94: 'of those', 95: 'those donors', 96: 'donors got', 97: 'got contracts,', 98: 'contracts, government', 99: 'government contracts,', 100: 'contracts, taxpayer', 101: 'taxpayer money.', 102: 'money. Can', 103: 'Can you', 104: 'you really', 105: 'really say', 106: 'say that', 107: 'that you', 108: 'you kept', 109: 'kept your', 110: 'your pledge', 111: 'pledge to', 112: 'to that', 113: 'that Senate', 114: 'Senate committee?', 115: 'committee? And', 116: 'And why', 117: \"why isn't\", 118: \"isn't what\", 119: 'what happened', 120: 'happened and', 121: 'and what', 122: 'what went', 123: 'went on', 124: 'on between', 125: 'between you', 126: 'you and', 127: 'and the', 128: 'the Clinton', 129: 'Clinton Foundation,', 130: 'Foundation, why', 131: \"why isn't\", 132: \"isn't it\", 133: 'it what', 134: 'what Mr.', 135: 'Mr. Drumpf', 136: 'Drumpf calls', 137: 'calls pay', 138: 'pay to', 139: 'to play?', 140: 'to play?', 141: 'to play?', 142: 'run for', 143: 'for the', 144: 'the presidency', 145: 'presidency of', 146: 'of the', 147: 'the United', 148: 'United States?', 149: \"States? That's\", 150: \"That's really\", 151: 'really what', 152: 'what you', 153: 'you should', 154: 'should be', 155: 'be talking', 156: 'talking about,', 157: 'about, not', 158: 'not fiction,', 159: 'fiction, where', 160: 'where somebody', 161: 'somebody wants', 162: 'wants fame', 163: 'fame or', 164: 'or where', 165: 'where they', 166: 'they come', 167: 'come out', 168: 'out of', 169: 'of her', 170: 'her crooked', 171: 'crooked campaign.', 172: 'crooked campaign.', 173: 'crooked campaign.', 174: 'criminal act,', 175: 'act, by', 176: 'by the', 177: 'the way,', 178: 'way, where', 179: \"where they're\", 180: \"they're telling\", 181: 'telling people', 182: 'people to', 183: 'to go', 184: 'go out', 185: 'out and', 186: 'and start', 187: 'start fist', 188: 'fist fights', 189: 'fights and', 190: 'and start', 191: 'start violence.', 192: 'violence. And', 193: \"And I'll\", 194: \"I'll tell\", 195: 'tell you', 196: 'you what,', 197: 'what, in', 198: 'in particular', 199: 'particular in', 200: 'in Chicago,', 201: 'Chicago, people', 202: 'people were', 203: 'were hurt', 204: 'hurt and', 205: 'and people', 206: 'people could', 207: 'could have', 208: 'have been', 209: 'been killed', 210: 'killed in', 211: 'in that', 212: 'that riot.', 213: 'riot. And', 214: 'And that', 215: 'that was', 216: 'was now', 217: 'now all', 218: 'all on', 219: 'on tape,', 220: 'tape, started', 221: 'started by', 222: 'by her.', 223: 'her. I', 224: 'I believe,', 225: 'believe, Chris,', 226: 'Chris, that', 227: 'that she', 228: 'she got', 229: 'got these', 230: 'these people', 231: 'people to', 232: 'to step', 233: 'step forward.', 234: 'forward. If', 235: 'If it', 236: \"it wasn't,\", 237: \"wasn't, they\", 238: 'they get', 239: 'get their', 240: 'their 10', 241: '10 minutes', 242: 'minutes of', 243: 'of fame.', 244: 'fame. But', 245: 'But they', 246: 'they were', 247: 'were all', 248: 'all totally', 249: 'totally it', 250: 'it was', 251: 'was all', 252: 'all fiction.', 253: 'fiction. It', 254: 'It was', 255: 'was lies,', 256: 'lies, and', 257: 'and it', 258: 'it was', 259: 'was fiction.', 260: 'was fiction.', 261: 'was fiction.', 262: 'by our', 263: 'our country.', 264: 'country. Now', 265: 'Now she', 266: 'she wants', 267: 'wants to', 268: 'to sign', 269: 'sign Trans', 270: 'Trans Pacific', 271: 'Pacific Partnership.', 272: 'Partnership. And', 273: 'And she', 274: 'she wants', 275: 'wants it.', 276: 'it. She', 277: 'She lied', 278: 'lied when', 279: 'when she', 280: 'she said', 281: 'said she', 282: \"she didn't\", 283: \"didn't call\", 284: 'call it', 285: 'it the', 286: 'the gold', 287: 'gold standard', 288: 'standard in', 289: 'in one', 290: 'one of', 291: 'of the', 292: 'the debates.', 293: 'debates. She', 294: 'She totally', 295: 'totally lied.', 296: 'lied. She', 297: 'She did', 298: 'did call', 299: 'call it', 300: 'it the', 301: 'the gold', 302: 'gold standard.', 303: 'standard. And', 304: 'And they', 305: 'they actually', 306: 'actually fact', 307: 'fact checked,', 308: 'checked, and', 309: 'and they', 310: 'they said', 311: 'said I', 312: 'I was', 313: 'was right.', 314: 'right. I', 315: 'I was', 316: 'was so', 317: 'so honored.', 318: 'so honored.', 319: 'so honored.', 320: 'jobs have', 321: 'have fled', 322: 'fled to', 323: 'to Mexico', 324: 'Mexico and', 325: 'and other', 326: 'other places.', 327: \"places. We're\", 328: \"We're bringing\", 329: 'bringing our', 330: 'our jobs', 331: 'jobs back.', 332: 'back. I', 333: 'I am', 334: 'am going', 335: 'going to', 336: 'to renegotiate', 337: 'renegotiate NAFTA.', 338: 'NAFTA. And', 339: 'And if', 340: 'if I', 341: \"I can't\", 342: \"can't make\", 343: 'make a', 344: 'a great', 345: 'great deal', 346: 'deal then', 347: \"then we're\", 348: \"we're going\", 349: 'going to', 350: 'to terminate', 351: 'terminate NAFTA', 352: 'NAFTA and', 353: \"and we're\", 354: \"we're going\", 355: 'going to', 356: 'to create', 357: 'create new', 358: 'new deals.', 359: \"deals. We're\", 360: \"We're going\", 361: 'going to', 362: 'to have', 363: 'have trade,', 364: 'trade, but', 365: \"but we're\", 366: \"we're going\", 367: \"going we're\", 368: \"we're going\", 369: 'going to', 370: 'to terminate', 371: 'terminate it,', 372: \"it, we're\", 373: \"we're going\", 374: 'going to', 375: 'to make', 376: 'make a', 377: 'a great', 378: 'great trade', 379: 'trade deal.', 380: 'deal. And', 381: 'And if', 382: 'if we', 383: \"we can't,\", 384: \"can't, we're\", 385: \"we're going\", 386: 'going to', 387: 'to do', 388: 'do it', 389: 'it ¬¬', 390: \"¬¬ we're\", 391: \"we're going\", 392: 'going to', 393: 'to go', 394: 'go a', 395: 'a separate', 396: 'separate way,', 397: 'way, because', 398: 'because it', 399: 'it has', 400: 'has been', 401: 'been a', 402: 'a disaster.', 403: 'disaster. We', 404: 'We are', 405: 'are going', 406: 'going to', 407: 'to cut', 408: 'cut taxes', 409: 'taxes massively.', 410: \"massively. We're\", 411: \"We're going\", 412: 'going to', 413: 'to cut', 414: 'cut business', 415: 'business taxes', 416: 'taxes massively.', 417: \"massively. They're\", 418: \"They're going\", 419: 'going to', 420: 'to start', 421: 'start hiring', 422: 'hiring people.', 423: \"people. We're\", 424: \"We're going\", 425: 'going to', 426: 'to bring', 427: 'bring the', 428: 'the $2.5', 429: '$2.5 trillion...', 430: '$2.5 trillion...', 431: '$2.5 trillion...'}\n"
     ]
    }
   ],
   "source": [
    "import statistics as st\n",
    "import matplotlib.pyplot as plt\n",
    "import numpy as np\n",
    "import math\n",
    "import re\n",
    "from collections import Counter\n",
    "% matplotlib inline\n",
    "\n",
    "stopfile = open(\"stopwords.txt\", \"r\");\n",
    "with open(\"prez.txt\", \"r\", errors=\"ignore\") as f:\n",
    "    SCRPT = f.read();\n",
    "\n",
    "stopwords = [];\n",
    "sparse = [];\n",
    "au = {};\n",
    "ag = {};\n",
    "speaker = \"\";\n",
    "\n",
    "for a in stopfile:\n",
    "    a = a.replace(\"\\n\", \"\");\n",
    "    stopwords.append(a);\n",
    "\n",
    "SCRPT = re.split(r'[\\n]', SCRPT);\n",
    "\n",
    "\n",
    "for line in SCRPT:\n",
    "    #line = line.replace (\":\", \":\\n\");\n",
    "    #print(line)\n",
    "    #letters_only = re.sub(r\"[^a-zA-Z': ]\", \" \", line);\n",
    "    #letters_only = line;\n",
    "    #letters_only = letters_only.lower();\n",
    "    #words = letters_only.split();\n",
    "    #words = [w for w in words if not w in stopwords];\n",
    "    sparse.append(line);\n",
    "#print(sparse);\n",
    "for a in range(len(sparse)):\n",
    "    #sparse[a] = sparse[a].split(\",\");\n",
    "    sparse[a] = sparse[a].split(\" \");\n",
    "\n",
    "while [''] in sparse:\n",
    "    sparse.remove(['']);\n",
    "bb = 0;\n",
    "bc = 0;\n",
    "bd = 0;\n",
    "be = 0;\n",
    "\n",
    "for b in range(len(sparse)):\n",
    "    bb = 0;\n",
    "    while bb < len(sparse[b]):\n",
    "        if sparse[b][bb] == \"CLINTON:\":\n",
    "            speaker = \"d\";\n",
    "        elif sparse[b][bb] == \"DRUMPF:\":\n",
    "            speaker = \"a\";\n",
    "        elif sparse[b][bb] == \"raddatz:\" or sparse[b][bb] == \"cooper:\" or sparse[b][bb] == \"holt:\" or sparse[b][bb] == \"wallace:\":\n",
    "            speaker = \"null\";\n",
    "        if speaker == \"d\":\n",
    "            try:\n",
    "                temp = sparse[b][bb+1]+\" \"+sparse[b][bb+2];\n",
    "            except:\n",
    "                asdf = 0;\n",
    "            ag[bb] = temp;\n",
    "        elif speaker == \"a\":\n",
    "            try:\n",
    "                temp = sparse[b][bb+1]+\" \"+sparse[b][bb+2];\n",
    "            except:\n",
    "                asdf = 0;\n",
    "            au[bb] = temp;\n",
    "        bc+=1;\n",
    "        bb+=1;\n",
    "\n",
    "print(\"Dav:\", ag);\n",
    "print(\"Aus\", au);\n",
    "#print(sparse);"
   ]
  },
  {
   "cell_type": "code",
   "execution_count": null,
   "metadata": {
    "collapsed": true
   },
   "outputs": [],
   "source": []
  }
 ],
 "metadata": {
  "anaconda-cloud": {},
  "kernelspec": {
   "display_name": "Python [Root]",
   "language": "python",
   "name": "Python [Root]"
  },
  "language_info": {
   "codemirror_mode": {
    "name": "ipython",
    "version": 3
   },
   "file_extension": ".py",
   "mimetype": "text/x-python",
   "name": "python",
   "nbconvert_exporter": "python",
   "pygments_lexer": "ipython3",
   "version": "3.5.2"
  }
 },
 "nbformat": 4,
 "nbformat_minor": 0
}
