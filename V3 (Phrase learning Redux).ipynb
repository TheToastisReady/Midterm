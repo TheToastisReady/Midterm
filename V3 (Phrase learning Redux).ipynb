{
 "cells": [
  {
   "cell_type": "code",
   "execution_count": 13,
   "metadata": {
    "collapsed": false
   },
   "outputs": [],
   "source": [
    "### ---> THE FOLLOWING CODE IS AN ADAPTATION OF EMMA ANDERSON'S SONNET ANALYZER <--- ###\n",
    "import statistics as st\n",
    "import matplotlib.pyplot as plt\n",
    "import numpy as np\n",
    "import math\n",
    "import re\n",
    "from collections import Counter\n",
    "% matplotlib inline\n",
    "\n",
    "stopfile = open(\"stopwords.txt\", \"r\");\n",
    "with open(\"prez.txt\", \"r\", errors=\"ignore\") as f:\n",
    "    SCRPT = f.read();\n",
    "\n",
    "stopwords = [];\n",
    "drmp = {};\n",
    "cntn = {};\n",
    "\n",
    "for a in stopfile:\n",
    "    a = a.replace(\"\\n\", \"\");\n",
    "    stopwords.append(a);\n",
    "\n",
    "SCRPT = re.split(\"[ ]+\\n\\n\", SCRPT);\n",
    "sparse = [];\n",
    "\n",
    "for line in SCRPT:\n",
    "    letters_only = re.sub(r\"[^a-zA-Z':]\", \" \", line);\n",
    "    letters_only = letters_only.lower();\n",
    "    words = letters_only.split();\n",
    "    words = [w for w in words if not w in stopwords];\n",
    "    sparse = words;\n",
    "\n",
    "ba = 0;\n",
    "cn = \"\";#Comparison Name\n",
    "\n",
    "#Dict generator\n",
    "while ba < len(sparse):\n",
    "    if sparse[ba] == \"clinton:\":\n",
    "        cn = \"cln\";\n",
    "    elif sparse[ba] == \"drumpf:\" or sparse[ba] == \"trump:\":\n",
    "        cn = \"dmp\";\n",
    "    elif sparse[ba] == \"raddatz:\" or sparse[ba] == \"cooper:\" or sparse[ba] == \"holt:\" or sparse[ba] == \"wallace:\":\n",
    "        cn = \"null\"\n",
    "    if cn == \"cln\" and sparse[ba] not in cntn:\n",
    "        cntn[sparse[ba]] = 1;\n",
    "    elif cn == \"cln\" and sparse[ba] in cntn:\n",
    "        cntn[sparse[ba]]+=1;\n",
    "    if cn == \"dmp\" and sparse[ba] not in drmp:\n",
    "        drmp[sparse[ba]] = 1;\n",
    "    elif cn == \"dmp\" and sparse[ba] in drmp:\n",
    "        drmp[sparse[ba]]+=1;\n",
    "    ba+=1;\n",
    "\n",
    "#print(cntn);\n",
    "#print(drmp);"
   ]
  },
  {
   "cell_type": "code",
   "execution_count": null,
   "metadata": {
    "collapsed": true
   },
   "outputs": [],
   "source": [
    "dPhrase = {};\n",
    "cPhrase = {};\n",
    "lower = 2;\n",
    "upper = 14;\n",
    "\n",
    "while ca < len(sparse):\n",
    "    if sparse[ca] == \"clinton:\":\n",
    "        cn = \"cln\";\n",
    "    elif sparse[ca] == \"drumpf:\" or sparse[ca] == \"trump:\":\n",
    "        cn = \"dmp\";\n",
    "    elif sparse[ca] == \"raddatz:\" or sparse[ca] == \"cooper:\" or sparse[ca] == \"holt:\" or sparse[ca] == \"wallace:\":\n",
    "        cn = \"null\"\n",
    "    while\n",
    "    if cn == \"cln\" and sparse[ca] not in cntn:\n",
    "        cPhrase[sparse[ca]] = 1;\n",
    "    elif cn == \"cln\" and sparse[ca] in cntn:\n",
    "        cPhrase[sparse[ca]]+=1;\n",
    "    if cn == \"dmp\" and sparse[ca] not in drmp:\n",
    "        dPhrase[sparse[ba]] = 1;\n",
    "    elif cn == \"dmp\" and sparse[ca] in drmp:\n",
    "        dPhrase[sparse[ca]]+=1;\n",
    "    ca+=1;"
   ]
  }
 ],
 "metadata": {
  "kernelspec": {
   "display_name": "Python [Root]",
   "language": "python",
   "name": "Python [Root]"
  },
  "language_info": {
   "codemirror_mode": {
    "name": "ipython",
    "version": 3
   },
   "file_extension": ".py",
   "mimetype": "text/x-python",
   "name": "python",
   "nbconvert_exporter": "python",
   "pygments_lexer": "ipython3",
   "version": "3.5.2"
  }
 },
 "nbformat": 4,
 "nbformat_minor": 0
}
